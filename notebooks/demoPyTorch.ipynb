{
 "cells": [
  {
   "metadata": {},
   "cell_type": "markdown",
   "source": [
    "Creación de tensores y acceso a los atributos\n",
    "Los tensores son la principal estructura de datos en PyTorch y serán los bloques de construcción para nuestros modelos de aprendizaje profundo. Comparten muchas similitudes con las matrices NumPy, pero también tienen algunos atributos únicos.\n",
    "\n",
    "En este ejercicio, practicarás la creación de un tensor a partir de una lista de Python y la visualización de algunos de sus atributos."
   ],
   "id": "9580f272d6239ea"
  },
  {
   "metadata": {},
   "cell_type": "markdown",
   "source": [
    "Instrucciones 1/2\n",
    "50 XP\n",
    "1\n",
    "2\n",
    "Comienza importando PyTorch.\n",
    "Crear un tensor a partir de la lista de Python list_a."
   ],
   "id": "bbfeb70b86f07eb6"
  },
  {
   "cell_type": "code",
   "id": "initial_id",
   "metadata": {
    "collapsed": true,
    "ExecuteTime": {
     "end_time": "2024-06-11T23:51:22.282489Z",
     "start_time": "2024-06-11T23:51:22.274752Z"
    }
   },
   "source": [
    "# Import PyTorch\n",
    "import torch\n",
    "\n",
    "list_a = [1, 2, 3, 4]\n",
    "\n",
    "# Create a tensor from list_a\n",
    "tensor_a = torch.tensor(list_a)\n",
    "\n",
    "print(tensor_a)"
   ],
   "outputs": [
    {
     "name": "stdout",
     "output_type": "stream",
     "text": [
      "tensor([1, 2, 3, 4])\n"
     ]
    }
   ],
   "execution_count": 3
  },
  {
   "metadata": {
    "ExecuteTime": {
     "end_time": "2024-06-11T23:47:52.390888Z",
     "start_time": "2024-06-11T23:47:52.387289Z"
    }
   },
   "cell_type": "code",
   "source": [
    "# Load data from numpy array\n",
    "\n",
    "import numpy as np\n",
    "\n",
    "np_array = np.array([[1, 2, 3], [4, 5, 6]])\n",
    "tensor = torch.from_numpy(np_array)\n",
    "print(tensor)"
   ],
   "id": "70c0f4fb0c91e59b",
   "outputs": [
    {
     "name": "stdout",
     "output_type": "stream",
     "text": [
      "tensor([[1, 2, 3],\n",
      "        [4, 5, 6]])\n"
     ]
    }
   ],
   "execution_count": 2
  },
  {
   "metadata": {},
   "cell_type": "markdown",
   "source": [
    "Creación de tensores y acceso a los atributos\n",
    "Los tensores son la principal estructura de datos en PyTorch y serán los bloques de construcción para nuestros modelos de aprendizaje profundo. Comparten muchas similitudes con las matrices NumPy, pero también tienen algunos atributos únicos.\n",
    "\n",
    "En este ejercicio, practicarás la creación de un tensor a partir de una lista de Python y la visualización de algunos de sus atributos. "
   ],
   "id": "3c92eaa3addaf646"
  },
  {
   "metadata": {},
   "cell_type": "markdown",
   "source": [
    "Instrucciones 2/2\n",
    "50 XP\n",
    "2\n",
    "Muestra el dispositivo tensor.\n",
    "Muestra el tipo de datos del tensor."
   ],
   "id": "682759e22f1922c5"
  },
  {
   "metadata": {
    "ExecuteTime": {
     "end_time": "2024-06-11T23:53:49.072513Z",
     "start_time": "2024-06-11T23:53:49.069581Z"
    }
   },
   "cell_type": "code",
   "source": [
    "# Import PyTorch\n",
    "import torch\n",
    "\n",
    "list_a = [1, 2, 3, 4]\n",
    "\n",
    "# Create a tensor from list_a\n",
    "tensor_a = torch.tensor(list_a)\n",
    "\n",
    "# Display the tensor device\n",
    "print(tensor_a.device)\n",
    "\n",
    "# Display the tensor data type\n",
    "print(tensor_a.dtype)"
   ],
   "id": "ea55bb845101d02b",
   "outputs": [
    {
     "name": "stdout",
     "output_type": "stream",
     "text": [
      "cpu\n",
      "torch.int64\n"
     ]
    }
   ],
   "execution_count": 4
  },
  {
   "metadata": {},
   "cell_type": "markdown",
   "source": [
    "Creación de tensores a partir de matrices NumPy\n",
    "Los tensores son la estructura de datos fundamental de PyTorch. Puedes crear complejos algoritmos de aprendizaje profundo aprendiendo a manipularlos.\n",
    "\n",
    "Se ha importado el paquete torch y se han creado dos matrices NumPy, denominadas array_a y array_b. Ambas matrices tienen las mismas dimensiones."
   ],
   "id": "542c5f826aa279ce"
  },
  {
   "metadata": {},
   "cell_type": "markdown",
   "source": [
    "Instrucciones\n",
    "100 XP\n",
    "Cree dos tensores, tensor_a y tensor_b, a partir de las matrices NumPy array_a y array_b, respectivamente.\n",
    "Resta tensor_b de tensor_a.\n",
    "Realiza una multiplicación por elementos de tensor_a y tensor_b.\n",
    "Suma los tensores resultantes de los dos pasos anteriores."
   ],
   "id": "a3e50768c8461a2e"
  },
  {
   "metadata": {
    "ExecuteTime": {
     "end_time": "2024-06-11T23:56:32.495728Z",
     "start_time": "2024-06-11T23:56:32.488394Z"
    }
   },
   "cell_type": "code",
   "source": [
    "# Create two tensors from the arrays\n",
    "\n",
    "import torch\n",
    "\n",
    "array_a = [[1, 2], [3, 4]]\n",
    "array_b = [[5, 6], [7, 8]]\n",
    "\n",
    "tensor_a = torch.tensor(array_a)\n",
    "tensor_b = torch.tensor(array_b)\n",
    "\n",
    "# Subtract tensor_b from tensor_a \n",
    "tensor_c = tensor_a - tensor_b\n",
    "\n",
    "# Multiply each element of tensor_a with each element of tensor_b\n",
    "tensor_d = tensor_a * tensor_b\n",
    "\n",
    "# Add tensor_c with tensor_d\n",
    "tensor_e = tensor_c + tensor_d\n",
    "print(tensor_e)"
   ],
   "id": "d3af9da74d104188",
   "outputs": [
    {
     "name": "stdout",
     "output_type": "stream",
     "text": [
      "tensor([[ 1,  8],\n",
      "        [17, 28]])\n"
     ]
    }
   ],
   "execution_count": 5
  },
  {
   "metadata": {},
   "cell_type": "markdown",
   "source": [
    "Su primera red neuronal\n",
    "En este ejercicio, implementarás una pequeña red neuronal que contiene dos capas lineales. La primera capa toma una entrada de ocho dimensiones, y la última capa produce un tensor unidimensional.\n",
    "\n",
    "Los paquetes torch y torch.nn ya han sido importados."
   ],
   "id": "2a73f6fd1a763d50"
  },
  {
   "metadata": {},
   "cell_type": "markdown",
   "source": [
    "Instrucciones\n",
    "100 XP\n",
    "Crear una red neuronal de capas lineales que tome como entrada un tensor de dimensiones \n",
    " y como salida un tensor de dimensiones \n",
    ".\n",
    "Utilice cualquier dimensión de salida para la primera capa que desee."
   ],
   "id": "775a0095a9db05c5"
  },
  {
   "metadata": {
    "ExecuteTime": {
     "end_time": "2024-06-12T00:17:53.201577Z",
     "start_time": "2024-06-12T00:17:53.196901Z"
    }
   },
   "cell_type": "code",
   "source": [
    "import torch\n",
    "import torch.nn as nn\n",
    "\n",
    "input_tensor = torch.Tensor([[2, 3, 6, 7, 9, 3, 2, 1]])\n",
    "\n",
    "# Implement a small neural network with exactly two linear layers\n",
    "model = nn.Sequential(\n",
    "    nn.Linear(8, 20), # 8 input features, 20 output features\n",
    "    nn.Linear(20, 1) # 20 input features, 1 output feature\n",
    ")\n",
    "\n",
    "output = model(input_tensor)\n",
    "print(output)"
   ],
   "id": "3d05724951c603fd",
   "outputs": [
    {
     "name": "stdout",
     "output_type": "stream",
     "text": [
      "tensor([[-1.9788]], grad_fn=<AddmmBackward0>)\n"
     ]
    }
   ],
   "execution_count": 7
  },
  {
   "metadata": {},
   "cell_type": "markdown",
   "source": [
    "Las funciones sigmoidea y softmax\n",
    "Las funciones sigmoide y softmax son dos de las funciones de activación más populares en el aprendizaje profundo. Ambos suelen utilizarse como último paso de una red neuronal. Las funciones sigmoidales se utilizan para problemas de clasificación binaria, mientras que las funciones softmax suelen emplearse para problemas de clasificación multiclase. Este ejercicio le familiarizará con la creación y el uso de ambas funciones.\n",
    "\n",
    "Supongamos que tiene una red neuronal que devuelve los valores contenidos en el tensor score como salida previa a la activación. Aplicará funciones de activación a esta salida.\n",
    "\n",
    "torch.nn ya está importado como nn."
   ],
   "id": "43349a3f00b36f02"
  },
  {
   "metadata": {},
   "cell_type": "markdown",
   "source": [
    "Instrucciones 1/2\n",
    "50 XP\n",
    "1\n",
    "Crea una función sigmoidea y aplícala en input_tensor para generar una probabilidad."
   ],
   "id": "8dbcd5e2e1d31040"
  },
  {
   "metadata": {
    "ExecuteTime": {
     "end_time": "2024-06-12T00:36:20.887713Z",
     "start_time": "2024-06-12T00:36:20.884092Z"
    }
   },
   "cell_type": "code",
   "source": [
    "input_tensor = torch.tensor([[0.8]])\n",
    "\n",
    "# Create a sigmoid function and apply it on input_tensor\n",
    "sigmoid = nn.Sigmoid() # sigmoid function\n",
    "probability = sigmoid(input_tensor) # apply the function to input_tensor\n",
    "print(probability) # print the result"
   ],
   "id": "2809fabbcbb85151",
   "outputs": [
    {
     "name": "stdout",
     "output_type": "stream",
     "text": [
      "tensor([[0.6900]])\n"
     ]
    }
   ],
   "execution_count": 9
  },
  {
   "metadata": {},
   "cell_type": "markdown",
   "source": [
    "\n",
    "Crea una función softmax y aplícala en input_tensor para generar una probabilidad."
   ],
   "id": "33622d6303b1c8b4"
  },
  {
   "metadata": {
    "ExecuteTime": {
     "end_time": "2024-06-12T00:39:13.931412Z",
     "start_time": "2024-06-12T00:39:13.926530Z"
    }
   },
   "cell_type": "code",
   "source": [
    "import torch\n",
    "import torch.nn as nn\n",
    "\n",
    "input_tensor = torch.tensor([[1.0, -6.0, 2.5, -0.3, 1.2, 0.8]])  # input tensor\n",
    "\n",
    "# Create a softmax function and apply it on input_tensor\n",
    "softmax = nn.Softmax(dim=-1)  # softmax function. dim=-1 calculates the softmax across the last dimension\n",
    "probabilities = softmax(input_tensor)  # apply the function to input_tensor\n",
    "print(probabilities)"
   ],
   "id": "d5a21b24628bb322",
   "outputs": [
    {
     "name": "stdout",
     "output_type": "stream",
     "text": [
      "tensor([[1.2828e-01, 1.1698e-04, 5.7492e-01, 3.4961e-02, 1.5669e-01, 1.0503e-01]])\n"
     ]
    }
   ],
   "execution_count": 12
  },
  {
   "metadata": {},
   "cell_type": "code",
   "outputs": [],
   "execution_count": null,
   "source": "",
   "id": "6d3a5e9051051d90"
  }
 ],
 "metadata": {
  "kernelspec": {
   "display_name": "Python 3",
   "language": "python",
   "name": "python3"
  },
  "language_info": {
   "codemirror_mode": {
    "name": "ipython",
    "version": 2
   },
   "file_extension": ".py",
   "mimetype": "text/x-python",
   "name": "python",
   "nbconvert_exporter": "python",
   "pygments_lexer": "ipython2",
   "version": "2.7.6"
  }
 },
 "nbformat": 4,
 "nbformat_minor": 5
}
